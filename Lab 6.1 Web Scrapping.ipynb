{
 "cells": [
  {
   "cell_type": "code",
   "execution_count": 74,
   "id": "bdbd1e86",
   "metadata": {},
   "outputs": [],
   "source": [
    "from bs4 import BeautifulSoup\n",
    "import requests\n",
    "import pandas as pd"
   ]
  },
  {
   "cell_type": "code",
   "execution_count": 75,
   "id": "d6c9ed75",
   "metadata": {},
   "outputs": [],
   "source": [
    "#chart-position-2 > div.chart-content.col-xs-12.col-sm-8 > p"
   ]
  },
  {
   "cell_type": "code",
   "execution_count": 76,
   "id": "e87366f9",
   "metadata": {},
   "outputs": [],
   "source": [
    "# 2. find url and store it in a variable\n",
    "url = \"http://www.popvortex.com/music/netherlands/top-songs.php\""
   ]
  },
  {
   "cell_type": "code",
   "execution_count": 77,
   "id": "20cff1aa",
   "metadata": {},
   "outputs": [
    {
     "data": {
      "text/plain": [
       "200"
      ]
     },
     "execution_count": 77,
     "metadata": {},
     "output_type": "execute_result"
    }
   ],
   "source": [
    "# 3. download html with a get request\n",
    "response = requests.get(url)\n",
    "response.status_code # 200 status code means OK!"
   ]
  },
  {
   "cell_type": "code",
   "execution_count": 78,
   "id": "90c0e7f7",
   "metadata": {},
   "outputs": [],
   "source": [
    "# 4.1. parse html (create the 'soup')\n",
    "soup = BeautifulSoup(response.content, \"html.parser\")"
   ]
  },
  {
   "cell_type": "code",
   "execution_count": 84,
   "id": "a698fbf9",
   "metadata": {},
   "outputs": [],
   "source": [
    "#soup"
   ]
  },
  {
   "cell_type": "code",
   "execution_count": 80,
   "id": "30171890",
   "metadata": {},
   "outputs": [
    {
     "data": {
      "text/plain": [
       "[<p class=\"title-artist\"><cite class=\"title\">Easy On Me</cite><em class=\"artist\">Adele</em></p>]"
      ]
     },
     "execution_count": 80,
     "metadata": {},
     "output_type": "execute_result"
    }
   ],
   "source": [
    "# 5. retrieve/extract the desired info (here, you'll paste the \"Selector\" you copied before to get the element that belongs to the top movie)\n",
    "soup.select(\"#chart-position-2 > div.chart-content.col-xs-12.col-sm-8 > p\")\n",
    "#chart-position-2 > div.chart-content.col-xs-12.col-sm-8 > p"
   ]
  },
  {
   "cell_type": "code",
   "execution_count": 81,
   "id": "65e8f366",
   "metadata": {},
   "outputs": [
    {
     "data": {
      "text/plain": [
       "'Music'"
      ]
     },
     "execution_count": 81,
     "metadata": {},
     "output_type": "execute_result"
    }
   ],
   "source": [
    "soup.h3.get_text() # all the info about all the movies"
   ]
  },
  {
   "cell_type": "code",
   "execution_count": null,
   "id": "7dcbb5e7",
   "metadata": {},
   "outputs": [],
   "source": []
  },
  {
   "cell_type": "code",
   "execution_count": null,
   "id": "a963b440",
   "metadata": {},
   "outputs": [],
   "source": []
  },
  {
   "cell_type": "code",
   "execution_count": 82,
   "id": "2568ce05",
   "metadata": {},
   "outputs": [
    {
     "name": "stdout",
     "output_type": "stream",
     "text": [
      "['Cold Heart (PNAU Remix)', 'Easy On Me', 'Schiddi Widdi Witt', 'Christmas On My Doorstep', 'Coming Home With Santa', 'Do It To It (feat. Cherish)', 'Alle Remmen Los', 'Everybody Needs Somebody To Love', 'Mañana', 'Dat Heb Jij Gedaan', 'Only You', 'Misschien Huil Ik Niet Hard Genoeg', 'Ons Moeder Zeej Nog', 'Amsterdam', 'The Motto', 'To Be Loved', 'Baby Lekker Ding', \"Tot Over M'n Oren\", 'Ja Wie Niet Springt (Die Moet Betalen)', 'Bad Habits', \"Non Stop Vol D'r Op\", 'Thunder', 'Shivers', 'Moth To A Flame', 'Nooit Meer Alcohol', 'Hold On', 'Pepas', 'Hard To Say Goodbye', 'All I Want For Christmas Is You', 'Ik Ga Zwemmen', 'Cover Me In Sunshine', 'Overpass Graffiti', 'Talk About', 'Where Are You Now', 'Wij Gaan Door', 'Vrijmibo', 'Love Tonight (David Guetta Remix)', 'Ghost', 'All Night Parking (with Erroll Garner) Interlude', 'The Haves', 'Streken Van Een Duivel (feat. Frenna)', 'In De Nacht', 'Calling', 'Door De Wind', 'Más Más Más', \"It's Beginning To Look a Lot Like Christmas\", 'Leave The Door Open', 'Rise Up', 'Bon Gepakt (feat. Rene Froger)', 'Trompetisto', 'My Universe', 'love nwantiti (feat. Axel & DJ Yo) [Remix]', 'Time To Say Goodbye (Con te partirò)', 'Better Days', 'One Right Now', 'Dopamine (feat. Eyelar)', 'I Drink Wine', 'Ooh Ahh (My Life Be Like) [feat. Tobymac]', 'Take My Breath', 'Soundgasm', \"Don't You Want Me (Purple Disco Machine Remix)\", 'Can I Get It', 'Intimidated (feat. H.E.R.)', 'Hurricane', 'Alcoholist', 'Strangers By Nature', 'Love Tonight (David Guetta Remix Edit)', 'Samen (feat. Yade Lauren)', 'Don’t Cry Me A River', 'Mijn Schat Mijn Vrouw', 'Goodbye Ciao Ciao', 'All That You Are', 'Enemy (From the series \"Arcane League of Legends\")', 'Words', 'Steal My Soul', 'Café Biljart', \"Summer Of '71\", 'Dis, quand reviendras-tu? (Arr. Gérard Daguerre)', 'Het Is Klaar', 'Sterker dan wij twee', 'That Girl', \"She's Leaving Home (feat. Tori Amos)\", 'Jij Bent Mijn Leven', 'Lieve lach', 'After All This Time', \"Baby, I'm Back (feat. Akon) [Main]\", 'Yerevan II', \"Don't Worry What the Experts Say\", 'Daribbaba', 'Choral', 'Rewild Me', 'De wind draait', 'Nooit meer droge ogen', 'God bestaat niet', 'Here, There & Everywhere', 'Ooh La La', 'Some Things Just Come Undone', 'Met Alles Wat Ik Heb', 'Rated \"R\"', 'Over the Fields']\n",
      "['Elton John & Dua Lipa', 'Adele', 'Gino Graus', 'OG3NE', 'OG3NE', 'Acraze', 'Helemaal Hollands', 'Danny Froger & Wesley Klein', 'Evert Van Huygevoort', 'MEAU', 'Rene Le Blanc', 'Bolland & Bolland', 'Jan Biggel', 'FLEMMING', 'Tiësto & Ava Max', 'Adele', 'Jeffrey Heesen', 'Bob Offenberg', 'Gebroeders Ko', 'Ed Sheeran', 'Snollebollekes', 'Gabry Ponte, LUM!X & Prezioso', 'Ed Sheeran', 'Swedish House Mafia & The Weeknd', 'Lawineboys', 'Adele', 'Farruko', 'RONDÉ', 'Mariah Carey', 'Mart Hoogkamer', 'P!nk & Willow Sage Hart', 'Ed Sheeran', 'Rain Radio & DJ Craig Gorman', 'Lost Frequencies & Calum Scott', 'Django Wagner & Wolter Kroes', 'Arjon Oostrom', 'Shouse & David Guetta', 'Justin Bieber', 'Adele', 'Eddie Vedder', 'Bilal Wahib', 'Yade Lauren', 'Elephant', 'Beste Zangers & Miss Montreal', 'Rolf Sanchez', 'Michael Bublé', 'Bruno Mars, Anderson .Paak & Silk Sonic', 'Andra Day', 'Donnie', 'Sjaak', 'Coldplay X BTS', 'CKay', 'André Rieu, Mirusia Louwerse & Johann Strauss Orchestra', 'Dermot Kennedy', 'Post Malone & The Weeknd', 'Purple Disco Machine', 'Adele', 'Grits', 'The Weeknd', 'Rema', 'The Human League', 'Adele', 'KAYTRANADA', 'Ofenbach & Ella Henderson', 'Dopebwoy', 'Adele', 'Shouse & David Guetta', 'Kevin', 'Nona', 'John West & Zonzo Basily', 'Vinzzent', \"Bear's Den\", 'Imagine Dragons, JID & League of Legends', 'Stefania', 'Airbag', 'Toon Hermans', 'Bolland & Bolland', 'Amsterdam Sinfonietta, Thomas Oliemans & Candida Thompson', 'Samantha Steenwijk', 'De Dijk', 'Jah Cure', 'Miloš Karadaglić', 'John West', 'De Dijk', 'Heather Nova', 'Baby Bash', 'Franco Feruglio, Marco Decimo, Gabriele Baffero, Mauro Loguercio & Djivan Gasparyan', 'Heather Nova', 'Bilal Göregen', 'Arild Andersen, Vassilis Tsabropoulos & John Marshall', 'Heather Nova', 'De Dijk', 'De Dijk', 'De Dijk', 'Miloš Karadaglić', 'Counting Crows', 'Heather Nova', 'De Dijk', 'Redman', 'Heather Nova']\n"
     ]
    }
   ],
   "source": [
    "#initialize empty lists\n",
    "title = []\n",
    "artist = []\n",
    "\n",
    "\n",
    "# define the number of iterations of our for loop\n",
    "# by checking how many elements are in the retrieved result set\n",
    "# (this is equivalent but more robust than just explicitly defining 250 iterations)\n",
    "num_iter = len(soup.select(\"cite.title\"))\n",
    "\n",
    "# iterate through the result set and retrive all the data\n",
    "for i in range(num_iter):\n",
    "    title.append(soup.select(\"cite.title\")[i].get_text())\n",
    "    artist.append(soup.select(\"em.artist\")[i].get_text())\n",
    "    \n",
    "\n",
    "print(title)\n",
    "print(artist)\n",
    "\n",
    "# each list becomes a column\n",
    "songs = pd.DataFrame({\"title\":title,\n",
    "                       \"artist\":artist\n",
    "                      })"
   ]
  },
  {
   "cell_type": "code",
   "execution_count": 83,
   "id": "5f8e7e24",
   "metadata": {},
   "outputs": [
    {
     "data": {
      "text/html": [
       "<div>\n",
       "<style scoped>\n",
       "    .dataframe tbody tr th:only-of-type {\n",
       "        vertical-align: middle;\n",
       "    }\n",
       "\n",
       "    .dataframe tbody tr th {\n",
       "        vertical-align: top;\n",
       "    }\n",
       "\n",
       "    .dataframe thead th {\n",
       "        text-align: right;\n",
       "    }\n",
       "</style>\n",
       "<table border=\"1\" class=\"dataframe\">\n",
       "  <thead>\n",
       "    <tr style=\"text-align: right;\">\n",
       "      <th></th>\n",
       "      <th>title</th>\n",
       "      <th>artist</th>\n",
       "    </tr>\n",
       "  </thead>\n",
       "  <tbody>\n",
       "    <tr>\n",
       "      <th>0</th>\n",
       "      <td>Cold Heart (PNAU Remix)</td>\n",
       "      <td>Elton John &amp; Dua Lipa</td>\n",
       "    </tr>\n",
       "    <tr>\n",
       "      <th>1</th>\n",
       "      <td>Easy On Me</td>\n",
       "      <td>Adele</td>\n",
       "    </tr>\n",
       "    <tr>\n",
       "      <th>2</th>\n",
       "      <td>Schiddi Widdi Witt</td>\n",
       "      <td>Gino Graus</td>\n",
       "    </tr>\n",
       "    <tr>\n",
       "      <th>3</th>\n",
       "      <td>Christmas On My Doorstep</td>\n",
       "      <td>OG3NE</td>\n",
       "    </tr>\n",
       "    <tr>\n",
       "      <th>4</th>\n",
       "      <td>Coming Home With Santa</td>\n",
       "      <td>OG3NE</td>\n",
       "    </tr>\n",
       "  </tbody>\n",
       "</table>\n",
       "</div>"
      ],
      "text/plain": [
       "                      title                 artist\n",
       "0   Cold Heart (PNAU Remix)  Elton John & Dua Lipa\n",
       "1                Easy On Me                  Adele\n",
       "2        Schiddi Widdi Witt             Gino Graus\n",
       "3  Christmas On My Doorstep                  OG3NE\n",
       "4    Coming Home With Santa                  OG3NE"
      ]
     },
     "execution_count": 83,
     "metadata": {},
     "output_type": "execute_result"
    }
   ],
   "source": [
    "songs.head()"
   ]
  },
  {
   "cell_type": "code",
   "execution_count": null,
   "id": "6d553a3e",
   "metadata": {},
   "outputs": [],
   "source": []
  }
 ],
 "metadata": {
  "kernelspec": {
   "display_name": "Python 3",
   "language": "python",
   "name": "python3"
  },
  "language_info": {
   "codemirror_mode": {
    "name": "ipython",
    "version": 3
   },
   "file_extension": ".py",
   "mimetype": "text/x-python",
   "name": "python",
   "nbconvert_exporter": "python",
   "pygments_lexer": "ipython3",
   "version": "3.8.8"
  }
 },
 "nbformat": 4,
 "nbformat_minor": 5
}
